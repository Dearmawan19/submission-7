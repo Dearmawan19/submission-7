{
  "nbformat": 4,
  "nbformat_minor": 0,
  "metadata": {
    "colab": {
      "provenance": [],
      "gpuType": "T4"
    },
    "kernelspec": {
      "name": "python3",
      "display_name": "Python 3"
    },
    "language_info": {
      "name": "python"
    },
    "accelerator": "GPU"
  },
  "cells": [
    {
      "cell_type": "markdown",
      "source": [
        "# Proyek Machine Learning - Dearmawan\n",
        "# Rekomendasi Buku"
      ],
      "metadata": {
        "id": "Mw9cUaaiN6kT"
      }
    },
    {
      "cell_type": "markdown",
      "source": [
        "# Import Libraries"
      ],
      "metadata": {
        "id": "nel_NlMzN_Gg"
      }
    },
    {
      "cell_type": "code",
      "source": [
        "# Install library yang diperlukan\n",
        "!pip install pandas numpy==1.24.4 scikit-learn scikit-surprise matplotlib seaborn pandas"
      ],
      "metadata": {
        "colab": {
          "base_uri": "https://localhost:8080/"
        },
        "id": "vxT70Hwba1kM",
        "outputId": "1bc1136e-d12d-46ab-9b65-2080b46b1d37"
      },
      "execution_count": 1,
      "outputs": [
        {
          "output_type": "stream",
          "name": "stdout",
          "text": [
            "Requirement already satisfied: pandas in /usr/local/lib/python3.11/dist-packages (2.2.2)\n",
            "Requirement already satisfied: numpy==1.24.4 in /usr/local/lib/python3.11/dist-packages (1.24.4)\n",
            "Requirement already satisfied: scikit-learn in /usr/local/lib/python3.11/dist-packages (1.6.1)\n",
            "Requirement already satisfied: scikit-surprise in /usr/local/lib/python3.11/dist-packages (1.1.4)\n",
            "Requirement already satisfied: matplotlib in /usr/local/lib/python3.11/dist-packages (3.10.0)\n",
            "Requirement already satisfied: seaborn in /usr/local/lib/python3.11/dist-packages (0.13.2)\n",
            "Requirement already satisfied: python-dateutil>=2.8.2 in /usr/local/lib/python3.11/dist-packages (from pandas) (2.9.0.post0)\n",
            "Requirement already satisfied: pytz>=2020.1 in /usr/local/lib/python3.11/dist-packages (from pandas) (2025.2)\n",
            "Requirement already satisfied: tzdata>=2022.7 in /usr/local/lib/python3.11/dist-packages (from pandas) (2025.2)\n",
            "Requirement already satisfied: scipy>=1.6.0 in /usr/local/lib/python3.11/dist-packages (from scikit-learn) (1.15.2)\n",
            "Requirement already satisfied: joblib>=1.2.0 in /usr/local/lib/python3.11/dist-packages (from scikit-learn) (1.4.2)\n",
            "Requirement already satisfied: threadpoolctl>=3.1.0 in /usr/local/lib/python3.11/dist-packages (from scikit-learn) (3.6.0)\n",
            "Requirement already satisfied: contourpy>=1.0.1 in /usr/local/lib/python3.11/dist-packages (from matplotlib) (1.3.2)\n",
            "Requirement already satisfied: cycler>=0.10 in /usr/local/lib/python3.11/dist-packages (from matplotlib) (0.12.1)\n",
            "Requirement already satisfied: fonttools>=4.22.0 in /usr/local/lib/python3.11/dist-packages (from matplotlib) (4.57.0)\n",
            "Requirement already satisfied: kiwisolver>=1.3.1 in /usr/local/lib/python3.11/dist-packages (from matplotlib) (1.4.8)\n",
            "Requirement already satisfied: packaging>=20.0 in /usr/local/lib/python3.11/dist-packages (from matplotlib) (24.2)\n",
            "Requirement already satisfied: pillow>=8 in /usr/local/lib/python3.11/dist-packages (from matplotlib) (11.2.1)\n",
            "Requirement already satisfied: pyparsing>=2.3.1 in /usr/local/lib/python3.11/dist-packages (from matplotlib) (3.2.3)\n",
            "Requirement already satisfied: six>=1.5 in /usr/local/lib/python3.11/dist-packages (from python-dateutil>=2.8.2->pandas) (1.17.0)\n"
          ]
        }
      ]
    },
    {
      "cell_type": "code",
      "execution_count": 2,
      "metadata": {
        "colab": {
          "base_uri": "https://localhost:8080/"
        },
        "id": "gDDY00rXNwQC",
        "outputId": "77c921a4-42e1-4699-dbc4-66961563dc0a"
      },
      "outputs": [
        {
          "output_type": "stream",
          "name": "stdout",
          "text": [
            "Libraries imported successfully!\n"
          ]
        }
      ],
      "source": [
        "import pandas as pd\n",
        "import numpy as np\n",
        "import matplotlib.pyplot as plt\n",
        "import seaborn as sns\n",
        "from sklearn.feature_extraction.text import TfidfVectorizer\n",
        "from sklearn.metrics.pairwise import cosine_similarity\n",
        "from surprise import Reader, Dataset, SVD, KNNBasic\n",
        "from surprise.model_selection import train_test_split as surprise_train_test_split\n",
        "from surprise import accuracy\n",
        "import re\n",
        "# Mengatur opsi tampilan Pandas\n",
        "pd.set_option('display.max_columns', None)\n",
        "pd.set_option('display.max_colwidth', None)\n",
        "\n",
        "print(\"Libraries imported successfully!\")"
      ]
    },
    {
      "cell_type": "markdown",
      "source": [
        "# Data Load"
      ],
      "metadata": {
        "id": "M2-_vFlAoJ5o"
      }
    },
    {
      "cell_type": "code",
      "source": [
        "#Data load\n",
        "path_books = 'Books.csv'\n",
        "path_users = 'Users.csv'\n",
        "path_ratings = 'Ratings.csv'\n",
        "\n",
        "try:\n",
        "    books_df = pd.read_csv(path_books, low_memory=False)\n",
        "    users_df = pd.read_csv(path_users, low_memory=False)\n",
        "    ratings_df = pd.read_csv(path_ratings, low_memory=False)\n",
        "except FileNotFoundError:\n",
        "    print(\"Pastikan file Books.csv, Users.csv, dan Ratings.csv ada di direktori yang benar atau sesuaikan path.\")\n",
        "print(\"Shape of books_df:\", books_df.shape)\n",
        "print(\"Shape of users_df:\", users_df.shape)\n",
        "print(\"Shape of ratings_df:\", ratings_df.shape)"
      ],
      "metadata": {
        "colab": {
          "base_uri": "https://localhost:8080/"
        },
        "id": "xmOcXIBRoMWV",
        "outputId": "b5684a37-f5c7-4ca3-84dd-6668ecd1be7b"
      },
      "execution_count": 3,
      "outputs": [
        {
          "output_type": "stream",
          "name": "stdout",
          "text": [
            "Shape of books_df: (271360, 8)\n",
            "Shape of users_df: (278858, 3)\n",
            "Shape of ratings_df: (1149780, 3)\n"
          ]
        }
      ]
    },
    {
      "cell_type": "markdown",
      "source": [
        " # Data Understanding"
      ],
      "metadata": {
        "id": "zhBImO71oosW"
      }
    },
    {
      "cell_type": "code",
      "source": [
        "#Book dataset\n",
        "print(\"Info books_df:\")\n",
        "books_df.info()\n",
        "print(\"\\nMissing values in books_df:\")\n",
        "print(books_df.isnull().sum())\n",
        "print(\"\\nFirst 5 rows of books_df:\")\n",
        "print(books_df.head())\n",
        "print(\"\\nData types in 'Year-Of-Publication':\")\n",
        "print(books_df['Year-Of-Publication'].unique()[:20]) # Melihat beberapa nilai unik untuk mengecek tipe data"
      ],
      "metadata": {
        "colab": {
          "base_uri": "https://localhost:8080/"
        },
        "id": "MnCmGX3dowzm",
        "outputId": "6aba8e6e-a14c-4463-ecd7-c4c101cbac5d"
      },
      "execution_count": 4,
      "outputs": [
        {
          "output_type": "stream",
          "name": "stdout",
          "text": [
            "Info books_df:\n",
            "<class 'pandas.core.frame.DataFrame'>\n",
            "RangeIndex: 271360 entries, 0 to 271359\n",
            "Data columns (total 8 columns):\n",
            " #   Column               Non-Null Count   Dtype \n",
            "---  ------               --------------   ----- \n",
            " 0   ISBN                 271360 non-null  object\n",
            " 1   Book-Title           271360 non-null  object\n",
            " 2   Book-Author          271358 non-null  object\n",
            " 3   Year-Of-Publication  271360 non-null  object\n",
            " 4   Publisher            271358 non-null  object\n",
            " 5   Image-URL-S          271360 non-null  object\n",
            " 6   Image-URL-M          271360 non-null  object\n",
            " 7   Image-URL-L          271357 non-null  object\n",
            "dtypes: object(8)\n",
            "memory usage: 16.6+ MB\n",
            "\n",
            "Missing values in books_df:\n",
            "ISBN                   0\n",
            "Book-Title             0\n",
            "Book-Author            2\n",
            "Year-Of-Publication    0\n",
            "Publisher              2\n",
            "Image-URL-S            0\n",
            "Image-URL-M            0\n",
            "Image-URL-L            3\n",
            "dtype: int64\n",
            "\n",
            "First 5 rows of books_df:\n",
            "         ISBN  \\\n",
            "0  0195153448   \n",
            "1  0002005018   \n",
            "2  0060973129   \n",
            "3  0374157065   \n",
            "4  0393045218   \n",
            "\n",
            "                                                                                           Book-Title  \\\n",
            "0                                                                                 Classical Mythology   \n",
            "1                                                                                        Clara Callan   \n",
            "2                                                                                Decision in Normandy   \n",
            "3  Flu: The Story of the Great Influenza Pandemic of 1918 and the Search for the Virus That Caused It   \n",
            "4                                                                              The Mummies of Urumchi   \n",
            "\n",
            "            Book-Author Year-Of-Publication                   Publisher  \\\n",
            "0    Mark P. O. Morford                2002     Oxford University Press   \n",
            "1  Richard Bruce Wright                2001       HarperFlamingo Canada   \n",
            "2          Carlo D'Este                1991             HarperPerennial   \n",
            "3      Gina Bari Kolata                1999        Farrar Straus Giroux   \n",
            "4       E. J. W. Barber                1999  W. W. Norton &amp; Company   \n",
            "\n",
            "                                                    Image-URL-S  \\\n",
            "0  http://images.amazon.com/images/P/0195153448.01.THUMBZZZ.jpg   \n",
            "1  http://images.amazon.com/images/P/0002005018.01.THUMBZZZ.jpg   \n",
            "2  http://images.amazon.com/images/P/0060973129.01.THUMBZZZ.jpg   \n",
            "3  http://images.amazon.com/images/P/0374157065.01.THUMBZZZ.jpg   \n",
            "4  http://images.amazon.com/images/P/0393045218.01.THUMBZZZ.jpg   \n",
            "\n",
            "                                                    Image-URL-M  \\\n",
            "0  http://images.amazon.com/images/P/0195153448.01.MZZZZZZZ.jpg   \n",
            "1  http://images.amazon.com/images/P/0002005018.01.MZZZZZZZ.jpg   \n",
            "2  http://images.amazon.com/images/P/0060973129.01.MZZZZZZZ.jpg   \n",
            "3  http://images.amazon.com/images/P/0374157065.01.MZZZZZZZ.jpg   \n",
            "4  http://images.amazon.com/images/P/0393045218.01.MZZZZZZZ.jpg   \n",
            "\n",
            "                                                    Image-URL-L  \n",
            "0  http://images.amazon.com/images/P/0195153448.01.LZZZZZZZ.jpg  \n",
            "1  http://images.amazon.com/images/P/0002005018.01.LZZZZZZZ.jpg  \n",
            "2  http://images.amazon.com/images/P/0060973129.01.LZZZZZZZ.jpg  \n",
            "3  http://images.amazon.com/images/P/0374157065.01.LZZZZZZZ.jpg  \n",
            "4  http://images.amazon.com/images/P/0393045218.01.LZZZZZZZ.jpg  \n",
            "\n",
            "Data types in 'Year-Of-Publication':\n",
            "['2002' '2001' '1991' '1999' '2000' '1993' '1996' '1988' '2004' '1998'\n",
            " '1994' '2003' '1997' '1983' '1979' '1995' '1982' '1985' '1992' '1986']\n"
          ]
        }
      ]
    },
    {
      "cell_type": "markdown",
      "source": [
        "Berdasarkan output yang Anda berikan, dataset books_df ini cukup besar dengan lebih dari 270.000 entri buku dan memiliki kelengkapan data yang sangat baik untuk kolom-kolom inti seperti ISBN, Judul Buku, Penulis, dan Penerbit, dengan hanya sedikit sekali nilai yang hilang (masing-masing 2 untuk Penulis dan Penerbit, serta 3 untuk URL gambar besar). Semua kolom saat ini bertipe object, yang mengindikasikan bahwa kolom seperti Year-Of-Publication, meskipun dalam sampel 20 nilai unik pertama tampak seperti tahun (misalnya, '2002', '2001'), perlu dikonversi menjadi tipe numerik untuk analisis lebih lanjut dan mungkin memerlukan pembersihan jika ada entri yang tidak valid di luar sampel tersebut. Kehadiran URL gambar juga memberikan potensi untuk fitur tambahan jika diperlukan, meskipun fokus utama kemungkinan akan pada data tekstual untuk sistem rekomendasi."
      ],
      "metadata": {
        "id": "ZVzsUywgVgPe"
      }
    },
    {
      "cell_type": "code",
      "source": [
        "# User dataset\n",
        "print(\"Info users_df:\")\n",
        "users_df.info()\n",
        "print(\"\\nMissing values in users_df:\")\n",
        "print(users_df.isnull().sum()) # Banyak nilai Age yang hilang\n",
        "print(\"\\nFirst 5 rows of users_df:\")\n",
        "print(users_df.head())\n",
        "print(\"\\nDescriptive statistics for Age:\")\n",
        "print(users_df['Age'].describe())"
      ],
      "metadata": {
        "colab": {
          "base_uri": "https://localhost:8080/"
        },
        "id": "CcPye0wapm77",
        "outputId": "9ff4a886-822a-4d6a-d021-45e39fbf74fa"
      },
      "execution_count": 5,
      "outputs": [
        {
          "output_type": "stream",
          "name": "stdout",
          "text": [
            "Info users_df:\n",
            "<class 'pandas.core.frame.DataFrame'>\n",
            "RangeIndex: 278858 entries, 0 to 278857\n",
            "Data columns (total 3 columns):\n",
            " #   Column    Non-Null Count   Dtype  \n",
            "---  ------    --------------   -----  \n",
            " 0   User-ID   278858 non-null  int64  \n",
            " 1   Location  278858 non-null  object \n",
            " 2   Age       168096 non-null  float64\n",
            "dtypes: float64(1), int64(1), object(1)\n",
            "memory usage: 6.4+ MB\n",
            "\n",
            "Missing values in users_df:\n",
            "User-ID          0\n",
            "Location         0\n",
            "Age         110762\n",
            "dtype: int64\n",
            "\n",
            "First 5 rows of users_df:\n",
            "   User-ID                            Location   Age\n",
            "0        1                  nyc, new york, usa   NaN\n",
            "1        2           stockton, california, usa  18.0\n",
            "2        3     moscow, yukon territory, russia   NaN\n",
            "3        4           porto, v.n.gaia, portugal  17.0\n",
            "4        5  farnborough, hants, united kingdom   NaN\n",
            "\n",
            "Descriptive statistics for Age:\n",
            "count    168096.000000\n",
            "mean         34.751434\n",
            "std          14.428097\n",
            "min           0.000000\n",
            "25%          24.000000\n",
            "50%          32.000000\n",
            "75%          44.000000\n",
            "max         244.000000\n",
            "Name: Age, dtype: float64\n"
          ]
        }
      ]
    },
    {
      "cell_type": "markdown",
      "source": [
        "Dataset users_df berisi informasi mengenai 278.858 pengguna, dengan detail mencakup User-ID (integer unik), Location (teks), dan Age (float). Kolom Age menjadi perhatian utama karena memiliki sejumlah besar nilai yang hilang (110.762 data) dan memerlukan pembersihan data akibat adanya nilai yang tidak realistis seperti usia 0 atau 244 tahun, meskipun data usia yang valid menunjukkan rata-rata sekitar 34.75 tahun dan median 32 tahun. Sementara itu, kolom User-ID dan Location tampak lengkap tanpa ada data yang hilang."
      ],
      "metadata": {
        "id": "wbK-_81JWNd7"
      }
    },
    {
      "cell_type": "code",
      "source": [
        "# ratings dataset\n",
        "print(\"Info ratings_df:\")\n",
        "ratings_df.info()\n",
        "print(\"\\nMissing values in ratings_df:\")\n",
        "print(ratings_df.isnull().sum())\n",
        "print(\"\\nFirst 5 rows of ratings_df:\")\n",
        "print(ratings_df.head())\n",
        "print(\"\\nDescriptive statistics for Book-Rating:\")\n",
        "print(ratings_df['Book-Rating'].describe())\n",
        "print(\"\\nUnique values in Book-Rating:\")\n",
        "print(sorted(ratings_df['Book-Rating'].unique()))"
      ],
      "metadata": {
        "colab": {
          "base_uri": "https://localhost:8080/"
        },
        "id": "p7YKZI2upt-m",
        "outputId": "20001f75-ed7d-4b28-ca21-6578a450f96e"
      },
      "execution_count": 6,
      "outputs": [
        {
          "output_type": "stream",
          "name": "stdout",
          "text": [
            "Info ratings_df:\n",
            "<class 'pandas.core.frame.DataFrame'>\n",
            "RangeIndex: 1149780 entries, 0 to 1149779\n",
            "Data columns (total 3 columns):\n",
            " #   Column       Non-Null Count    Dtype \n",
            "---  ------       --------------    ----- \n",
            " 0   User-ID      1149780 non-null  int64 \n",
            " 1   ISBN         1149780 non-null  object\n",
            " 2   Book-Rating  1149780 non-null  int64 \n",
            "dtypes: int64(2), object(1)\n",
            "memory usage: 26.3+ MB\n",
            "\n",
            "Missing values in ratings_df:\n",
            "User-ID        0\n",
            "ISBN           0\n",
            "Book-Rating    0\n",
            "dtype: int64\n",
            "\n",
            "First 5 rows of ratings_df:\n",
            "   User-ID        ISBN  Book-Rating\n",
            "0   276725  034545104X            0\n",
            "1   276726  0155061224            5\n",
            "2   276727  0446520802            0\n",
            "3   276729  052165615X            3\n",
            "4   276729  0521795028            6\n",
            "\n",
            "Descriptive statistics for Book-Rating:\n",
            "count    1.149780e+06\n",
            "mean     2.866950e+00\n",
            "std      3.854184e+00\n",
            "min      0.000000e+00\n",
            "25%      0.000000e+00\n",
            "50%      0.000000e+00\n",
            "75%      7.000000e+00\n",
            "max      1.000000e+01\n",
            "Name: Book-Rating, dtype: float64\n",
            "\n",
            "Unique values in Book-Rating:\n",
            "[0, 1, 2, 3, 4, 5, 6, 7, 8, 9, 10]\n"
          ]
        }
      ]
    },
    {
      "cell_type": "markdown",
      "source": [
        "Dataset ratings_df sangatlah besar, mencakup lebih dari 1,1 juta entri rating tanpa ada nilai yang hilang pada kolom User-ID, ISBN, maupun Book-Rating. Hal yang paling menonjol dari statistik deskriptif Book-Rating adalah dominasi nilai 0, di mana baik kuartil pertama (25%) maupun median (50%) menunjukkan angka 0. Ini mengindikasikan bahwa sebagian besar entri dalam dataset ini adalah rating implisit atau \"tidak ada rating\", meskipun skala rating eksplisitnya berkisar dari 1 hingga 10, dengan rata-rata rating keseluruhan sekitar 2.87 dan kuartil ketiga (75%) berada di angka 7."
      ],
      "metadata": {
        "id": "pP964X-TWahM"
      }
    },
    {
      "cell_type": "code",
      "source": [
        "#Visualisasi Distribusi Rating Buku\n",
        "plt.figure(figsize=(10, 6))\n",
        "sns.countplot(x='Book-Rating', data=ratings_df, palette='viridis')\n",
        "plt.title('Distribution of Book Ratings')\n",
        "plt.xlabel('Book Rating')\n",
        "plt.ylabel('Count')\n",
        "plt.show()"
      ],
      "metadata": {
        "colab": {
          "base_uri": "https://localhost:8080/",
          "height": 651
        },
        "id": "4B7CdrlQpuEO",
        "outputId": "7b4d0e7d-be06-4626-8503-277fab47f631"
      },
      "execution_count": 7,
      "outputs": [
        {
          "output_type": "stream",
          "name": "stderr",
          "text": [
            "<ipython-input-7-1ba0601cb1a2>:3: FutureWarning: \n",
            "\n",
            "Passing `palette` without assigning `hue` is deprecated and will be removed in v0.14.0. Assign the `x` variable to `hue` and set `legend=False` for the same effect.\n",
            "\n",
            "  sns.countplot(x='Book-Rating', data=ratings_df, palette='viridis')\n"
          ]
        },
        {
          "output_type": "display_data",
          "data": {
            "text/plain": [
              "<Figure size 1000x600 with 1 Axes>"
            ],
            "image/png": "[encoded data removed]"
          },
          "metadata": {}
        }
      ]
    },
    {
      "cell_type": "markdown",
      "source": [
        "Visualisasi distribusi rating buku dengan jelas menunjukkan bahwa rating 0 mendominasi secara signifikan, dengan jumlahnya melebihi 700.000, jauh melampaui rating lainnya. Rating eksplisit (1-10) memiliki frekuensi yang jauh lebih rendah, dengan rating 8, 9, dan 10 menjadi yang paling banyak diberikan di antara rating eksplisit tersebut, meskipun jumlahnya masih di bawah 100.000 masing-masing. Ini mengindikasikan bahwa sebagian besar interaksi dalam dataset adalah implisit atau \"tidak ada rating\", dan untuk analisis yang melibatkan preferensi eksplisit, fokus pada rating 1-10 akan lebih relevan, dengan perhatian khusus pada rating tinggi (7-10) yang menunjukkan sentimen positif yang lebih kuat."
      ],
      "metadata": {
        "id": "e9iyQ3R8Wi-V"
      }
    },
    {
      "cell_type": "code",
      "source": [
        "# Visualisai Distribusi Usia Pengguna\n",
        "plt.figure(figsize=(10,6))\n",
        "sns.histplot(users_df['Age'].dropna(), bins=30, kde=True)\n",
        "plt.title('Distribution of User Ages')\n",
        "plt.xlabel('Age')\n",
        "plt.ylabel('Frequency')\n",
        "plt.xlim(0, 100) # Batasi usia agar lebih relevan\n",
        "plt.show()"
      ],
      "metadata": {
        "colab": {
          "base_uri": "https://localhost:8080/",
          "height": 564
        },
        "id": "mt-NsdWMOvaa",
        "outputId": "e266e26a-681e-4a28-bcc5-78454a67f283"
      },
      "execution_count": 8,
      "outputs": [
        {
          "output_type": "display_data",
          "data": {
            "text/plain": [
              "<Figure size 1000x600 with 1 Axes>"
            ],
            "image/png": "[encoded data removed]"
          },
          "metadata": {}
        }
      ]
    },
    {
      "cell_type": "markdown",
      "source": [
        "Berdasarkan histogram distribusi usia pengguna, terlihat bahwa mayoritas pengguna berada dalam rentang usia muda hingga paruh baya, dengan puncaknya di sekitar usia 30-an. Distribusi ini cenderung miring ke kanan (right-skewed), menunjukkan bahwa meskipun ada pengguna di berbagai kelompok usia hingga sekitar 80-an, jumlah mereka menurun drastis setelah usia 40-an, mengindikasikan basis pengguna yang kuat pada demografi yang lebih muda."
      ],
      "metadata": {
        "id": "cZRZa77UWjm1"
      }
    },
    {
      "cell_type": "code",
      "source": [
        "# visualisai Top 10 Buku dengan Ratings Count Terbanyak\n",
        "# Gabungkan ratings dengan books untuk mendapatkan judul buku\n",
        "ratings_with_titles = ratings_df.merge(books_df[['ISBN', 'Book-Title']], on='ISBN')\n",
        "\n",
        "top_10_rated_books = ratings_with_titles['Book-Title'].value_counts().head(10)\n",
        "plt.figure(figsize=(12, 7))\n",
        "sns.barplot(x=top_10_rated_books.values, y=top_10_rated_books.index, palette='mako')\n",
        "plt.title('Top 10 Most Rated Books')\n",
        "plt.xlabel('Number of Ratings')\n",
        "plt.ylabel('Book Title')\n",
        "plt.show()"
      ],
      "metadata": {
        "colab": {
          "base_uri": "https://localhost:8080/",
          "height": 728
        },
        "id": "pGOQ81TOO5Tp",
        "outputId": "c4b7494b-0e74-4330-c66b-1324c5639588"
      },
      "execution_count": 9,
      "outputs": [
        {
          "output_type": "stream",
          "name": "stderr",
          "text": [
            "<ipython-input-9-e09c928d5d1f>:7: FutureWarning: \n",
            "\n",
            "Passing `palette` without assigning `hue` is deprecated and will be removed in v0.14.0. Assign the `y` variable to `hue` and set `legend=False` for the same effect.\n",
            "\n",
            "  sns.barplot(x=top_10_rated_books.values, y=top_10_rated_books.index, palette='mako')\n"
          ]
        },
        {
          "output_type": "display_data",
          "data": {
            "text/plain": [
              "<Figure size 1200x700 with 1 Axes>"
            ],
            "image/png": "[encoded data removed]"
          },
          "metadata": {}
        }
      ]
    },
    {
      "cell_type": "markdown",
      "source": [
        "Grafik menunjukkan bahwa buku \"Wild Animus\" memiliki jumlah rating yang jauh melampaui buku-buku lain dalam daftar 10 teratas, menandakan popularitas atau jumlah interaksi yang sangat tinggi dibandingkan dengan judul-judul lain seperti \"The Lovely Bones: A Novel\" atau \"The Da Vinci Code\" yang berada di posisi berikutnya. Meskipun semua buku dalam daftar ini masuk dalam kategori paling banyak diberi rating, ada jurang pemisah yang signifikan antara posisi pertama dengan sembilan buku lainnya, menunjukkan dominasi \"Wild Animus\" dalam hal jumlah rating yang diterima."
      ],
      "metadata": {
        "id": "F3JTw3U0W26j"
      }
    },
    {
      "cell_type": "markdown",
      "source": [
        "#Data Preparation"
      ],
      "metadata": {
        "id": "2e-pW69YVwqT"
      }
    },
    {
      "cell_type": "code",
      "source": [
        "# Persiapan data book\n",
        "# --- Persiapan books_df ---\n",
        "print(\"Original unique 'Year-Of-Publication' examples:\", books_df['Year-Of-Publication'].unique()[:5])\n",
        "# Koreksi 'Year-Of-Publication'\n",
        "books_df['Year-Of-Publication'] = pd.to_numeric(books_df['Year-Of-Publication'], errors='coerce')\n",
        "# Isi NaN dengan nilai yang tidak mungkin mempengaruhi analisis, atau drop jika sedikit. Kita isi dengan median tahun yang valid.\n",
        "median_year = books_df['Year-Of-Publication'].median()\n",
        "books_df['Year-Of-Publication'].fillna(median_year, inplace=True)\n",
        "books_df['Year-Of-Publication'] = books_df['Year-Of-Publication'].astype(int)\n",
        "\n",
        "# Isi NaN pada Book-Author dan Publisher\n",
        "books_df['Book-Author'].fillna('Unknown Author', inplace=True)\n",
        "books_df['Publisher'].fillna('Unknown Publisher', inplace=True)\n",
        "\n",
        "# Drop kolom URL gambar karena tidak akan digunakan\n",
        "books_df.drop(columns=['Image-URL-S', 'Image-URL-M', 'Image-URL-L'], inplace=True, errors='ignore')\n",
        "\n",
        "print(\"\\nInfo books_df after cleaning:\")\n",
        "books_df.info()\n",
        "print(\"\\nMissing values in books_df after cleaning:\")\n",
        "print(books_df.isnull().sum())"
      ],
      "metadata": {
        "colab": {
          "base_uri": "https://localhost:8080/"
        },
        "id": "d7ayFxbkV6mA",
        "outputId": "f67bfd08-6bd0-4e6f-a824-bc53f499684c"
      },
      "execution_count": 10,
      "outputs": [
        {
          "output_type": "stream",
          "name": "stdout",
          "text": [
            "Original unique 'Year-Of-Publication' examples: ['2002' '2001' '1991' '1999' '2000']\n",
            "\n",
            "Info books_df after cleaning:\n",
            "<class 'pandas.core.frame.DataFrame'>\n",
            "RangeIndex: 271360 entries, 0 to 271359\n",
            "Data columns (total 5 columns):\n",
            " #   Column               Non-Null Count   Dtype \n",
            "---  ------               --------------   ----- \n",
            " 0   ISBN                 271360 non-null  object\n",
            " 1   Book-Title           271360 non-null  object\n",
            " 2   Book-Author          271360 non-null  object\n",
            " 3   Year-Of-Publication  271360 non-null  int64 \n",
            " 4   Publisher            271360 non-null  object\n",
            "dtypes: int64(1), object(4)\n",
            "memory usage: 10.4+ MB\n",
            "\n",
            "Missing values in books_df after cleaning:\n",
            "ISBN                   0\n",
            "Book-Title             0\n",
            "Book-Author            0\n",
            "Year-Of-Publication    0\n",
            "Publisher              0\n",
            "dtype: int64\n"
          ]
        },
        {
          "output_type": "stream",
          "name": "stderr",
          "text": [
            "<ipython-input-10-95d78f01e51c>:8: FutureWarning: A value is trying to be set on a copy of a DataFrame or Series through chained assignment using an inplace method.\n",
            "The behavior will change in pandas 3.0. This inplace method will never work because the intermediate object on which we are setting values always behaves as a copy.\n",
            "\n",
            "For example, when doing 'df[col].method(value, inplace=True)', try using 'df.method({col: value}, inplace=True)' or df[col] = df[col].method(value) instead, to perform the operation inplace on the original object.\n",
            "\n",
            "\n",
            "  books_df['Year-Of-Publication'].fillna(median_year, inplace=True)\n",
            "<ipython-input-10-95d78f01e51c>:12: FutureWarning: A value is trying to be set on a copy of a DataFrame or Series through chained assignment using an inplace method.\n",
            "The behavior will change in pandas 3.0. This inplace method will never work because the intermediate object on which we are setting values always behaves as a copy.\n",
            "\n",
            "For example, when doing 'df[col].method(value, inplace=True)', try using 'df.method({col: value}, inplace=True)' or df[col] = df[col].method(value) instead, to perform the operation inplace on the original object.\n",
            "\n",
            "\n",
            "  books_df['Book-Author'].fillna('Unknown Author', inplace=True)\n",
            "<ipython-input-10-95d78f01e51c>:13: FutureWarning: A value is trying to be set on a copy of a DataFrame or Series through chained assignment using an inplace method.\n",
            "The behavior will change in pandas 3.0. This inplace method will never work because the intermediate object on which we are setting values always behaves as a copy.\n",
            "\n",
            "For example, when doing 'df[col].method(value, inplace=True)', try using 'df.method({col: value}, inplace=True)' or df[col] = df[col].method(value) instead, to perform the operation inplace on the original object.\n",
            "\n",
            "\n",
            "  books_df['Publisher'].fillna('Unknown Publisher', inplace=True)\n"
          ]
        }
      ]
    },
    {
      "cell_type": "markdown",
      "source": [
        "Dapat dilihat sudah dilakukan penaganan missing value dan drop kolom yang tidak perlu sehingga data memiliki jumlah yg sama untuk dataset book"
      ],
      "metadata": {
        "id": "BGczBcqXW_Qh"
      }
    },
    {
      "cell_type": "code",
      "source": [
        "# Persiaoan dataset users\n",
        "# --- Persiapan users_df ---\n",
        "# Menangani outliers dan NaN pada Age\n",
        "users_df.loc[(users_df['Age'] > 90) | (users_df['Age'] < 5), 'Age'] = np.nan\n",
        "users_df['Age'].fillna(users_df['Age'].median(), inplace=True)\n",
        "users_df['Age'] = users_df['Age'].astype(int)\n",
        "\n",
        "print(\"\\nInfo users_df after cleaning:\")\n",
        "users_df.info()\n",
        "print(\"\\nMissing values in users_df after cleaning:\")\n",
        "print(users_df.isnull().sum())\n",
        "\n"
      ],
      "metadata": {
        "colab": {
          "base_uri": "https://localhost:8080/"
        },
        "id": "VxLwKBGMXYnt",
        "outputId": "b5719b88-a7c8-40a5-eb5b-c41ae97c8369"
      },
      "execution_count": 11,
      "outputs": [
        {
          "output_type": "stream",
          "name": "stderr",
          "text": [
            "<ipython-input-11-4477488c9928>:5: FutureWarning: A value is trying to be set on a copy of a DataFrame or Series through chained assignment using an inplace method.\n",
            "The behavior will change in pandas 3.0. This inplace method will never work because the intermediate object on which we are setting values always behaves as a copy.\n",
            "\n",
            "For example, when doing 'df[col].method(value, inplace=True)', try using 'df.method({col: value}, inplace=True)' or df[col] = df[col].method(value) instead, to perform the operation inplace on the original object.\n",
            "\n",
            "\n",
            "  users_df['Age'].fillna(users_df['Age'].median(), inplace=True)\n"
          ]
        },
        {
          "output_type": "stream",
          "name": "stdout",
          "text": [
            "\n",
            "Info users_df after cleaning:\n",
            "<class 'pandas.core.frame.DataFrame'>\n",
            "RangeIndex: 278858 entries, 0 to 278857\n",
            "Data columns (total 3 columns):\n",
            " #   Column    Non-Null Count   Dtype \n",
            "---  ------    --------------   ----- \n",
            " 0   User-ID   278858 non-null  int64 \n",
            " 1   Location  278858 non-null  object\n",
            " 2   Age       278858 non-null  int64 \n",
            "dtypes: int64(2), object(1)\n",
            "memory usage: 6.4+ MB\n",
            "\n",
            "Missing values in users_df after cleaning:\n",
            "User-ID     0\n",
            "Location    0\n",
            "Age         0\n",
            "dtype: int64\n"
          ]
        }
      ]
    },
    {
      "cell_type": "markdown",
      "source": [
        "Dapat dilihat outlier sudah diatasi dan tidak adanya missing value."
      ],
      "metadata": {
        "id": "rKADHKqAXbaz"
      }
    },
    {
      "cell_type": "code",
      "source": [
        "# Persiapan dataset ratings\n",
        "# --- Persiapan ratings_df ---\n",
        "# Untuk Content-Based, kita hanya perlu books_df yang sudah bersih.\n",
        "# Untuk Collaborative Filtering, kita perlu ratings_df dan users_df.\n",
        "\n",
        "# Filter rating eksplisit untuk Collaborative Filtering\n",
        "ratings_explicit_df = ratings_df[ratings_df['Book-Rating'] != 0]\n",
        "print(f\"\\nOriginal ratings: {len(ratings_df)}, Explicit ratings: {len(ratings_explicit_df)}\")\n",
        "\n",
        "# Gabungkan dengan informasi buku untuk kemudahan\n",
        "full_data_explicit = ratings_explicit_df.merge(books_df[['ISBN', 'Book-Title']], on='ISBN')\n",
        "full_data_explicit = full_data_explicit.merge(users_df[['User-ID', 'Age']], on='User-ID') # Tambahkan age jika diperlukan\n",
        "\n",
        "print(\"\\nFirst 5 rows of merged explicit ratings data:\")\n",
        "print(full_data_explicit.head())"
      ],
      "metadata": {
        "colab": {
          "base_uri": "https://localhost:8080/"
        },
        "id": "KUu9kbdyXYuv",
        "outputId": "cc8dddb5-834f-4e1c-c9cc-29e8045f3e8c"
      },
      "execution_count": 12,
      "outputs": [
        {
          "output_type": "stream",
          "name": "stdout",
          "text": [
            "\n",
            "Original ratings: 1149780, Explicit ratings: 433671\n",
            "\n",
            "First 5 rows of merged explicit ratings data:\n",
            "   User-ID        ISBN  Book-Rating  \\\n",
            "0   276726  0155061224            5   \n",
            "1   276729  052165615X            3   \n",
            "2   276729  0521795028            6   \n",
            "3   276744  038550120X            7   \n",
            "4   276747  0060517794            9   \n",
            "\n",
            "                                                       Book-Title  Age  \n",
            "0                                                Rites of Passage   32  \n",
            "1                                                  Help!: Level 1   16  \n",
            "2  The Amsterdam Connection : Level 4 (Cambridge English Readers)   16  \n",
            "3                                                 A Painted House   32  \n",
            "4                                        Little Altars Everywhere   25  \n"
          ]
        }
      ]
    },
    {
      "cell_type": "markdown",
      "source": [
        "Ini memberikan gambaran awal tentang data rating buku yang digunakan, menunjukkan bahwa dari total 1,149,780 original ratings, hanya 433,671 yang merupakan explicit ratings yang dapat digunakan untuk analisis atau pelatihan model yang membutuhkan nilai rating spesifik. Tampilan beberapa baris pertama dari data explicit ratings yang sudah digabungkan memperlihatkan struktur datanya, meliputi User-ID, ISBN, nilai Book-Rating, judul buku (Book-Title), dan usia pengguna (Age), menegaskan ketersediaan informasi penting ini untuk memahami perilaku pengguna dalam memberikan rating dan karakteristik demografi mereka terkait dengan buku yang dinilai."
      ],
      "metadata": {
        "id": "PyqBrk3ZYYVZ"
      }
    },
    {
      "cell_type": "code",
      "source": [
        "# --- Filtering untuk Collaborative Filtering (mengurangi sparsity) ---\n",
        "# Pertimbangkan pengguna yang memberi setidaknya N rating dan buku yang menerima setidaknya M rating\n",
        "min_ratings_user = 5 # Contoh threshold\n",
        "user_counts = full_data_explicit['User-ID'].value_counts()\n",
        "active_users = user_counts[user_counts >= min_ratings_user].index\n",
        "filtered_ratings_cf = full_data_explicit[full_data_explicit['User-ID'].isin(active_users)]\n",
        "\n",
        "min_ratings_book = 5 # Contoh threshold\n",
        "book_counts = filtered_ratings_cf['ISBN'].value_counts()\n",
        "popular_books = book_counts[book_counts >= min_ratings_book].index\n",
        "filtered_ratings_cf = filtered_ratings_cf[filtered_ratings_cf['ISBN'].isin(popular_books)]\n",
        "\n",
        "print(f\"\\nShape of filtered_ratings_cf for Collaborative Filtering: {filtered_ratings_cf.shape}\")\n",
        "if filtered_ratings_cf.empty:\n",
        "    print(\"WARNING: filtered_ratings_cf is empty. Thresholds for filtering might be too high or data is too sparse.\")\n",
        "else:\n",
        "    print(\"Filtered ratings for CF are ready.\")"
      ],
      "metadata": {
        "colab": {
          "base_uri": "https://localhost:8080/"
        },
        "id": "YJVIn7KvYecY",
        "outputId": "3f6b9b3d-38dd-4a5e-d415-0347c71091a3"
      },
      "execution_count": 13,
      "outputs": [
        {
          "output_type": "stream",
          "name": "stdout",
          "text": [
            "\n",
            "Shape of filtered_ratings_cf for Collaborative Filtering: (135310, 5)\n",
            "Filtered ratings for CF are ready.\n"
          ]
        }
      ]
    },
    {
      "cell_type": "markdown",
      "source": [
        "mengindikasikan bahwa proses pemfilteran data rating telah berhasil diselesaikan untuk keperluan Collaborative Filtering, menghasilkan dataset siap pakai yang diberi nama filtered_ratings_cf. Dataset ini memiliki dimensi (135310, 5), yang berarti terdiri dari 135.310 baris data (kemungkinan merepresentasikan interaksi pengguna-buku berupa rating) dengan 5 kolom atribut (seperti User-ID, ISBN, Rating, dll.), yang kini siap digunakan untuk melatih atau mengaplikasikan model rekomendasi berbasis kolaborasi"
      ],
      "metadata": {
        "id": "GxoPD9QHY5zy"
      }
    },
    {
      "cell_type": "markdown",
      "source": [
        "# Modeling  Content-Based Filtering"
      ],
      "metadata": {
        "id": "ydDa92qxfyJy"
      }
    },
    {
      "cell_type": "code",
      "source": [
        "# --- Content-Based Filtering ---\n",
        "from sklearn.metrics.pairwise import linear_kernel # Atau cosine_similarity jika mau\n",
        "sample_fraction = 0.1 # Ambil 10% data (sekitar 27rb buku), sesuaikan sesuai kebutuhan/kemampuan RAM\n",
        "# Atau gunakan jumlah absolut: sample_size = 20000\n",
        "print(f\"Taking a sample of {sample_fraction*100}% of the books for faster processing...\")\n",
        "books_cb_sample = books_df.sample(frac=sample_fraction, random_state=42).copy()\n",
        "# -----------------------------------------------------\n",
        "\n",
        "# Gunakan 'books_cb_sample' di langkah selanjutnya\n",
        "books_cb_sample.fillna('', inplace=True)\n",
        "books_cb_sample['content'] = books_cb_sample['Book-Title'] + ' ' + books_cb_sample['Book-Author'] + ' ' + books_cb_sample['Publisher']\n",
        "\n",
        "# Inisialisasi TF-IDF Vectorizer\n",
        "tfidf = TfidfVectorizer(stop_words='english', ngram_range=(1,2))\n",
        "\n",
        "# Membuat matriks TF-IDF dari SAMPEL\n",
        "print(\"Fitting TF-IDF on sample...\")\n",
        "tfidf_matrix_sample = tfidf.fit_transform(books_cb_sample['content'])\n",
        "print(\"Shape of TF-IDF matrix (sample):\", tfidf_matrix_sample.shape)\n",
        "\n",
        "# Menghitung KEMIRIPAN pada SAMPEL\n",
        "print(\"Calculating similarity on sample using linear_kernel...\")\n",
        "cosine_sim_cb_sample = linear_kernel(tfidf_matrix_sample, tfidf_matrix_sample)\n",
        "# Atau: cosine_sim_cb_sample = cosine_similarity(tfidf_matrix_sample, tfidf_matrix_sample)\n",
        "print(\"Shape of Similarity matrix (sample):\", cosine_sim_cb_sample.shape)\n",
        "\n",
        "# Membuat mapping dari ISBN ke Indeks untuk SAMPEL\n",
        "books_cb_sample.reset_index(drop=True, inplace=True) # Reset index sample\n",
        "indices_cb_sample = pd.Series(books_cb_sample.index, index=books_cb_sample['ISBN']).drop_duplicates()\n",
        "\n",
        "# Fungsi untuk mendapatkan rekomendasi (disesuaikan untuk sampel)\n",
        "def get_content_based_recommendations_sample(isbn, N=10):\n",
        "    if isbn not in indices_cb_sample:\n",
        "        return f\"ISBN {isbn} not found in the sample's unique ISBN list.\"\n",
        "\n",
        "    try:\n",
        "      idx = indices_cb_sample[isbn]\n",
        "      if isinstance(idx, pd.Series): idx = idx.iloc[0]\n",
        "    except KeyError:\n",
        "        return f\"ISBN {isbn} not found in the sample indices mapping.\"\n",
        "    except Exception as e:\n",
        "        return f\"Error finding index for sample ISBN {isbn}: {e}\"\n",
        "\n",
        "    sim_scores = list(enumerate(cosine_sim_cb_sample[idx]))\n",
        "    sim_scores = sorted(sim_scores, key=lambda x: x[1], reverse=True)\n",
        "    sim_scores = sim_scores[1:N+1]\n",
        "    book_indices = [i[0] for i in sim_scores]\n",
        "\n",
        "    # Kembalikan N buku paling mirip dari SAMPEL\n",
        "    recommended_books = books_cb_sample.iloc[book_indices][['ISBN', 'Book-Title', 'Book-Author']]\n",
        "    recommended_books['similarity_score'] = [s[1] for s in sim_scores]\n",
        "    return recommended_books\n",
        "\n",
        "# Contoh penggunaan Content-Based Filtering pada SAMPEL\n",
        "if not books_cb_sample.empty:\n",
        "    # Cari ISBN contoh yang ADA di dalam sampel\n",
        "    try:\n",
        "        sample_isbn_cb_in_sample = books_cb_sample['ISBN'].iloc[0]\n",
        "        sample_title_in_sample = books_cb_sample.loc[books_cb_sample['ISBN'] == sample_isbn_cb_in_sample, 'Book-Title'].values[0]\n",
        "        print(f\"\\nRecommendations for book (from sample) with ISBN: {sample_isbn_cb_in_sample} ('{sample_title_in_sample}')\")\n",
        "        recommendations_cb_s = get_content_based_recommendations_sample(sample_isbn_cb_in_sample, N=5)\n",
        "        print(recommendations_cb_s)\n",
        "    except IndexError:\n",
        "        print(\"\\nSample dataframe is empty, cannot get sample ISBN.\")\n",
        "else:\n",
        "    print(\"books_cb_sample dataframe is empty. Cannot provide recommendations.\")"
      ],
      "metadata": {
        "colab": {
          "base_uri": "https://localhost:8080/"
        },
        "id": "oJnB1Z4EfxGS",
        "outputId": "3a3e13c4-d9c6-4f94-c1dd-4a524b3f18c3"
      },
      "execution_count": 14,
      "outputs": [
        {
          "output_type": "stream",
          "name": "stdout",
          "text": [
            "Taking a sample of 10.0% of the books for faster processing...\n",
            "Fitting TF-IDF on sample...\n",
            "Shape of TF-IDF matrix (sample): (27136, 176829)\n",
            "Calculating similarity on sample using linear_kernel...\n",
            "Shape of Similarity matrix (sample): (27136, 27136)\n",
            "\n",
            "Recommendations for book (from sample) with ISBN: 0679764275 ('The F Word')\n",
            "             ISBN                                                  Book-Title  \\\n",
            "19535  0375407413                   Random House Webster's College Dictionary   \n",
            "22905  0679780114    Random House Webster's American Sign Language Dictionary   \n",
            "8505   0679408797                                                 Conglomeros   \n",
            "19407  0394487028                                                        Hers   \n",
            "15419  0394840909  I Can Count to 100 ... Can You? (Random House Pictureback)   \n",
            "\n",
            "                  Book-Author  similarity_score  \n",
            "19535            Random House          0.380672  \n",
            "22905  Elaine, Ph.D. Costello          0.290939  \n",
            "8505            Jesse Browner          0.172857  \n",
            "19407               A Alvarez          0.128790  \n",
            "15419        Katherine Howard          0.115693  \n"
          ]
        }
      ]
    },
    {
      "cell_type": "markdown",
      "source": [
        "Output ini menunjukkan proses dan hasil dari sistem rekomendasi berbasis konten (content-based recommendation system) yang diterapkan pada dataset buku, khususnya untuk merekomendasikan buku-buku yang mirip dengan buku berjudul \"'The F Word'\". Sistem ini menggunakan sampel 10% dari data buku, menghitung kesamaan antar buku menggunakan representasi TF-IDF dan kernel linear, kemudian menghasilkan daftar buku rekomendasi bersama dengan skor kesamaan. Hasilnya menunjukkan beberapa buku yang direkomendasikan beserta detailnya, dengan skor kesamaan yang bervariasi, mencerminkan seberapa mirip konten buku-buku tersebut berdasarkan analisis tekstual oleh sistem."
      ],
      "metadata": {
        "id": "vGPCtj9yXv2e"
      }
    },
    {
      "cell_type": "markdown",
      "source": [
        "# Modeling Collaborative Filtering"
      ],
      "metadata": {
        "id": "ZsHe9i1a8oDS"
      }
    },
    {
      "cell_type": "code",
      "source": [
        "# --- Collaborative Filtering ---\n",
        "# Menggunakan filtered_ratings_cf yang sudah dipersiapkan\n",
        "if filtered_ratings_cf.empty:\n",
        "    print(\"Skipping Collaborative Filtering due to empty filtered_ratings_cf.\")\n",
        "else:\n",
        "    # Persiapan data untuk Surprise\n",
        "    reader = Reader(rating_scale=(1, 10)) # Rating eksplisit dari 1 hingga 10\n",
        "    data_cf = Dataset.load_from_df(filtered_ratings_cf[['User-ID', 'ISBN', 'Book-Rating']], reader)\n",
        "\n",
        "    # Split data menjadi train dan test set\n",
        "    trainset_cf, testset_cf = surprise_train_test_split(data_cf, test_size=0.2, random_state=42)\n",
        "\n",
        "    # Menggunakan SVD\n",
        "    algo_svd = SVD(n_factors=50, n_epochs=20, lr_all=0.005, reg_all=0.02, random_state=42) # Parameter bisa di-tune\n",
        "    print(\"\\nTraining SVD model...\")\n",
        "    algo_svd.fit(trainset_cf)\n",
        "    print(\"SVD model trained.\")\n",
        "\n",
        "    # Membuat prediksi pada test set\n",
        "    predictions_svd = algo_svd.test(testset_cf)\n",
        "\n",
        "    # Evaluasi model (RMSE dan MAE)\n",
        "    rmse_svd = accuracy.rmse(predictions_svd)\n",
        "    mae_svd = accuracy.mae(predictions_svd)\n",
        "    print(f\"SVD - RMSE: {rmse_svd}\")\n",
        "    print(f\"SVD - MAE: {mae_svd}\")\n",
        "\n",
        "    # Fungsi untuk mendapatkan top-N rekomendasi untuk pengguna\n",
        "    def get_collaborative_filtering_recommendations(user_id, N=10):\n",
        "        # Dapatkan daftar semua ISBN yang belum dirating oleh pengguna\n",
        "        rated_isbns = filtered_ratings_cf[filtered_ratings_cf['User-ID'] == user_id]['ISBN'].unique()\n",
        "        all_isbns = filtered_ratings_cf['ISBN'].unique()\n",
        "        unrated_isbns = [isbn for isbn in all_isbns if isbn not in rated_isbns]\n",
        "\n",
        "        if not unrated_isbns:\n",
        "            return \"User has rated all available books or no unrated books found for this user in the filtered set.\"\n",
        "\n",
        "        # Prediksi rating untuk buku yang belum dirating\n",
        "        test_set_for_user = [[user_id, isbn, 0] for isbn in unrated_isbns] # 0 adalah placeholder\n",
        "        predictions = algo_svd.test(test_set_for_user)\n",
        "\n",
        "        predictions.sort(key=lambda x: x.est, reverse=True) # Urutkan berdasarkan estimasi rating\n",
        "\n",
        "        top_n_predictions = predictions[:N]\n",
        "\n",
        "        # Dapatkan detail buku untuk rekomendasi\n",
        "        recommended_book_isbns = [pred.iid for pred in top_n_predictions]\n",
        "        recommended_book_details = books_df[books_df['ISBN'].isin(recommended_book_isbns)][['ISBN', 'Book-Title', 'Book-Author']]\n",
        "\n",
        "        # Tambahkan estimasi rating\n",
        "        # Perlu mencocokkan kembali karena urutan bisa berubah jika ada ISBN duplikat atau tidak ditemukan\n",
        "        est_ratings_map = {pred.iid: pred.est for pred in top_n_predictions}\n",
        "        recommended_book_details['estimated_rating'] = recommended_book_details['ISBN'].map(est_ratings_map)\n",
        "\n",
        "        # Urutkan berdasarkan estimasi rating lagi setelah merge\n",
        "        recommended_book_details = recommended_book_details.sort_values(by='estimated_rating', ascending=False).reset_index(drop=True)\n",
        "\n",
        "        return recommended_book_details\n",
        "\n",
        "    # Contoh penggunaan Collaborative Filtering\n",
        "    if not filtered_ratings_cf.empty:\n",
        "        # Ambil User-ID contoh dari dataset yang difilter\n",
        "        sample_user_id_cf = filtered_ratings_cf['User-ID'].unique()[0]\n",
        "        print(f\"\\nRecommendations for User-ID: {sample_user_id_cf} using SVD\")\n",
        "        recommendations_cf = get_collaborative_filtering_recommendations(sample_user_id_cf, N=5)\n",
        "        print(recommendations_cf)\n",
        "    else:\n",
        "        print(\"filtered_ratings_cf is empty. Cannot provide CF recommendations.\")"
      ],
      "metadata": {
        "colab": {
          "base_uri": "https://localhost:8080/"
        },
        "id": "05z-d-nh-0k1",
        "outputId": "12050d09-8770-46fd-cdc8-9c5e334f9ab5"
      },
      "execution_count": 15,
      "outputs": [
        {
          "output_type": "stream",
          "name": "stdout",
          "text": [
            "\n",
            "Training SVD model...\n",
            "SVD model trained.\n",
            "RMSE: 1.5741\n",
            "MAE:  1.2101\n",
            "SVD - RMSE: 1.5741099850201379\n",
            "SVD - MAE: 1.2101231606905607\n",
            "\n",
            "Recommendations for User-ID: 276747 using SVD\n",
            "         ISBN                                             Book-Title  \\\n",
            "0  0743454529           My Sister's Keeper : A Novel (Picoult, Jodi)   \n",
            "1  0812550706          Ender's Game (Ender Wiggins Saga (Paperback))   \n",
            "2  0439136369      Harry Potter and the Prisoner of Azkaban (Book 3)   \n",
            "3  0836213319                           Dilbert: A Book of Postcards   \n",
            "4  0439425220  Harry Potter and the Chamber of Secrets Postcard Book   \n",
            "\n",
            "        Book-Author  estimated_rating  \n",
            "0      Jodi Picoult          9.540725  \n",
            "1  Orson Scott Card          9.432904  \n",
            "2     J. K. Rowling          9.430569  \n",
            "3       Scott Adams          9.373584  \n",
            "4     J. K. Rowling          9.369498  \n"
          ]
        }
      ]
    },
    {
      "cell_type": "markdown",
      "source": [
        "Menampilkan hasil dari penerapan model Singular Value Decomposition (SVD) untuk sistem rekomendasi, kemungkinan besar menggunakan pendekatan collaborative filtering. Setelah model SVD dilatih, kinerjanya dievaluasi menggunakan metrik RMSE sebesar 1.574 dan MAE sebesar 1.210, yang mengindikasikan tingkat kesalahan prediksi rating. Selanjutnya, sistem ini memberikan rekomendasi buku yang dipersonalisasi untuk Pengguna dengan ID 276747, menyajikan daftar buku beserta perkiraan rating (estimated_rating) yang menunjukkan seberapa besar kemungkinan pengguna tersebut akan menyukai buku-buku yang direkomendasikan berdasarkan pola rating dari pengguna lain."
      ],
      "metadata": {
        "id": "kp_B2PyeX5Io"
      }
    },
    {
      "cell_type": "markdown",
      "source": [
        "# Evaluation Content-Based Filtering"
      ],
      "metadata": {
        "id": "ZCtxFjrppOWp"
      }
    },
    {
      "cell_type": "code",
      "source": [
        "# --- Evaluasi Content-Based Filtering (Sangat Sederhana - Inspeksi Visual) ---\n",
        "\n",
        "print(\"\\n--- Evaluasi Content-Based Filtering (Sangat Sederhana) ---\")\n",
        "\n",
        "# Catatan: Ini adalah inspeksi visual/kualitatif.\n",
        "# Anda perlu melihat hasilnya dan menilai sendiri relevansinya.\n",
        "\n",
        "if not books_cb_sample.empty:\n",
        "    # Pilih satu buku acak dari sampel untuk diuji\n",
        "    try:\n",
        "        random_book_in_sample = books_cb_sample.sample(1, random_state=42).iloc[0]\n",
        "        isbn_to_test_simple = random_book_in_sample['ISBN']\n",
        "        title_to_test_simple = random_book_in_sample['Book-Title']\n",
        "\n",
        "        print(f\"\\nMeminta rekomendasi untuk buku (dari sampel):\")\n",
        "        print(f\"ISBN: {isbn_to_test_simple}\")\n",
        "        print(f\"Judul: '{title_to_test_simple}'\")\n",
        "\n",
        "        # Dapatkan rekomendasi menggunakan fungsi yang sudah ada\n",
        "        recommendations_simple = get_content_based_recommendations_sample(isbn_to_test_simple, N=10)\n",
        "\n",
        "        # Tampilkan hasil rekomendasi\n",
        "        if isinstance(recommendations_simple, pd.DataFrame):\n",
        "            print(\"\\nRekomendasi Teratas:\")\n",
        "            print(recommendations_simple)\n",
        "            print(\"\\n(Periksa apakah buku-buku di atas terlihat mirip dengan buku input)\")\n",
        "        else:\n",
        "            # Menangani kasus jika ISBN tidak ditemukan di sampel\n",
        "            print(recommendations_simple)\n",
        "\n",
        "    except Exception as e:\n",
        "        print(f\"Terjadi error saat mencoba mendapatkan rekomendasi untuk sampel acak: {e}\")\n",
        "\n",
        "else:\n",
        "    print(\"Dataframe sample (books_cb_sample) kosong, tidak bisa melakukan evaluasi sederhana.\")\n",
        "\n",
        "# --- Akhir Bagian Evaluasi Sederhana ---"
      ],
      "metadata": {
        "colab": {
          "base_uri": "https://localhost:8080/"
        },
        "id": "_jvr2ex0xcK0",
        "outputId": "2487903a-f169-423f-db38-b7f8aa0295a7"
      },
      "execution_count": 19,
      "outputs": [
        {
          "output_type": "stream",
          "name": "stdout",
          "text": [
            "\n",
            "--- Evaluasi Content-Based Filtering (Sangat Sederhana) ---\n",
            "\n",
            "Meminta rekomendasi untuk buku (dari sampel):\n",
            "ISBN: 038548755X\n",
            "Judul: 'Enterprise One to One: Tools for Competing in the Interactive Age'\n",
            "\n",
            "Rekomendasi Teratas:\n",
            "             ISBN  \\\n",
            "8969   0385494092   \n",
            "11157  038549369X   \n",
            "26088  0679790756   \n",
            "16170  0385420579   \n",
            "8037   0440425050   \n",
            "10711  0609608002   \n",
            "5192   0448058081   \n",
            "4152   059042520x   \n",
            "22816  0385421540   \n",
            "25547  0201144689   \n",
            "\n",
            "                                                                                                  Book-Title  \\\n",
            "8969         One to One B2B: Customer Development Strategies for the Business-To-Business World (One to One)   \n",
            "11157  The One to One Fieldbook: The Complete Toolkit for Implementing a 1To1 Marketing Program (One to One)   \n",
            "26088                                      Windows 3.1 Power Tools/Book and Disk (Bantam Power Tools Series)   \n",
            "16170                                                                                    The Republic of Tea   \n",
            "8037                                                                   Five Little Peppers and How They Grew   \n",
            "10711                             Start with NO...The Negotiating Tools that the Pros Don't Want You to Know   \n",
            "5192                                                                   Five Little Peppers and How They Grew   \n",
            "4152                                                  Five Little Peppers and How They Grew (Apple Classics)   \n",
            "22816                                                Managing by Storying Around: A New Method of Leadership   \n",
            "25547                             Fundamentals of Interactive Computer Graphics (Systems Programming Series)   \n",
            "\n",
            "               Book-Author  similarity_score  \n",
            "8969           Don Peppers          0.262420  \n",
            "11157          Don Peppers          0.258237  \n",
            "26088  Geoffrey T. Leblond          0.086537  \n",
            "16170          Mel Ziegler          0.080384  \n",
            "8037       Margaret Sidney          0.077253  \n",
            "10711             Jim Camp          0.072519  \n",
            "5192       Margaret Sidney          0.068112  \n",
            "4152       Margaret Sidney          0.067535  \n",
            "22816      David Armstrong          0.064898  \n",
            "25547       James D. Foley          0.063721  \n",
            "\n",
            "(Periksa apakah buku-buku di atas terlihat mirip dengan buku input)\n"
          ]
        }
      ]
    },
    {
      "cell_type": "markdown",
      "source": [
        "Menyajikan evaluasi dari sistem content-based filtering yang sederhana, di mana sistem memberikan rekomendasi buku berdasarkan kesamaan konten dengan buku input \"Enterprise One to One: Tools for Competing in the Interactive Age\". Hasilnya menampilkan daftar buku yang direkomendasikan beserta skor kesamaan mereka. Meskipun beberapa judul yang direkomendasikan seperti \"One to One B2B\" dan \"The One to One Fieldbook\" secara tematis terlihat terkait, skor kesamaan yang relatif rendah (di bawah 0.3) untuk sebagian besar rekomendasi menunjukkan bahwa metode analisis konten atau perhitungan kesamaan yang digunakan mungkin perlu ditingkatkan untuk menghasilkan rekomendasi yang lebih relevan atau serupa secara kuat."
      ],
      "metadata": {
        "id": "fZUuctmtYCNB"
      }
    },
    {
      "cell_type": "markdown",
      "source": [
        "# Evaluation Collaborative Filtering\n",
        "\n",
        "\n"
      ],
      "metadata": {
        "id": "X8E1g_fMMpHa"
      }
    },
    {
      "cell_type": "code",
      "source": [
        "# Hasil evaluasi SVD sudah dicetak sebelumnya saat training\n",
        "if 'rmse_svd' in globals() and 'mae_svd' in globals():\n",
        "    print(\"\\n--- Evaluation Metrics for Collaborative Filtering (SVD) ---\")\n",
        "    print(f\"SVD Model - RMSE: {rmse_svd:.4f}\")\n",
        "    print(f\"SVD Model - MAE: {mae_svd:.4f}\")\n",
        "    print(\"\\nInterpretasi:\")\n",
        "    print(f\"RMSE sebesar {rmse_svd:.4f} menunjukkan bahwa rata-rata, prediksi rating model SVD kita menyimpang sekitar {rmse_svd:.4f} poin rating dari rating sebenarnya, dengan kesalahan yang lebih besar diberi bobot lebih.\")\n",
        "    print(f\"MAE sebesar {mae_svd:.4f} menunjukkan bahwa rata-rata, prediksi rating model SVD kita menyimpang sekitar {mae_svd:.4f} poin rating dari rating sebenarnya.\")\n",
        "    print(\"Nilai ini perlu dipertimbangkan dalam konteks skala rating (1-10). Semakin rendah, semakin baik performa model dalam memprediksi rating.\")\n",
        "else:\n",
        "    print(\"\\nSkipping CF evaluation as SVD model results are not available (likely due to empty filtered_ratings_cf).\")\n"
      ],
      "metadata": {
        "colab": {
          "base_uri": "https://localhost:8080/"
        },
        "id": "vLB0e5wEMwCp",
        "outputId": "288a3ff0-8cdb-4bef-e488-194224869afd"
      },
      "execution_count": 18,
      "outputs": [
        {
          "output_type": "stream",
          "name": "stdout",
          "text": [
            "\n",
            "--- Evaluation Metrics for Collaborative Filtering (SVD) ---\n",
            "SVD Model - RMSE: 1.5741\n",
            "SVD Model - MAE: 1.2101\n",
            "\n",
            "Interpretasi:\n",
            "RMSE sebesar 1.5741 menunjukkan bahwa rata-rata, prediksi rating model SVD kita menyimpang sekitar 1.5741 poin rating dari rating sebenarnya, dengan kesalahan yang lebih besar diberi bobot lebih.\n",
            "MAE sebesar 1.2101 menunjukkan bahwa rata-rata, prediksi rating model SVD kita menyimpang sekitar 1.2101 poin rating dari rating sebenarnya.\n",
            "Nilai ini perlu dipertimbangkan dalam konteks skala rating (1-10). Semakin rendah, semakin baik performa model dalam memprediksi rating.\n"
          ]
        }
      ]
    },
    {
      "cell_type": "markdown",
      "source": [
        "\n",
        "Menyajikan metrik evaluasi untuk model Collaborative Filtering menggunakan metode SVD, dengan nilai RMSE sebesar 1.5741 dan MAE sebesar 1.2101. Nilai-nilai ini mengindikasikan performa model dalam memprediksi rating pengguna; secara rata-rata, prediksi rating model SVD menyimpang sekitar 1.5741 poin dari rating sebenarnya (dengan penalti lebih besar untuk kesalahan besar) dan memiliki rata-rata selisih absolut 1.2101 poin dari rating sebenarnya. Dalam konteks skala rating 1-10, semakin rendah nilai RMSE dan MAE, semakin baik kemampuan model dalam memprediksi rating, sehingga nilai-nilai ini memberikan gambaran kuantitatif tentang akurasi rekomendasi yang dihasilkan oleh model SVD ini."
      ],
      "metadata": {
        "id": "RjGfxaP_YM2v"
      }
    }
  ]
}